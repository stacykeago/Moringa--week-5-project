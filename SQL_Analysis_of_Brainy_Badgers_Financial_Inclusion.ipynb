{
  "nbformat": 4,
  "nbformat_minor": 0,
  "metadata": {
    "colab": {
      "name": "SQL Analysis of Brainy Badgers Financial Inclusion.ipynb",
      "provenance": [],
      "collapsed_sections": [
        "axtk1G5Mf_gI",
        "uCdgvK40gxee",
        "h2WmjuFNiUBN",
        "XKXJPiT4h8_4",
        "AhBG9dEdixsX",
        "Qzp6klkEi_Fm",
        "Me7Ye46ojsoB",
        "gqRYuVQJkyh2",
        "l9ZJW6n_lFEr",
        "m_AeUg2BlUw8"
      ],
      "include_colab_link": true
    },
    "kernelspec": {
      "display_name": "Python 3",
      "name": "python3"
    },
    "language_info": {
      "name": "python"
    }
  },
  "cells": [
    {
      "cell_type": "markdown",
      "metadata": {
        "id": "view-in-github",
        "colab_type": "text"
      },
      "source": [
        "<a href=\"https://colab.research.google.com/github/stacykeago/Moringa--week-5-project/blob/main/SQL_Analysis_of_Brainy_Badgers_Financial_Inclusion.ipynb\" target=\"_parent\"><img src=\"https://colab.research.google.com/assets/colab-badge.svg\" alt=\"Open In Colab\"/></a>"
      ]
    },
    {
      "cell_type": "markdown",
      "metadata": {
        "id": "E5LXqTPBGIFY"
      },
      "source": [
        "# 1.0 Project overview"
      ]
    },
    {
      "cell_type": "markdown",
      "metadata": {
        "id": "GEjJQzuA6Q1B"
      },
      "source": [
        "## 1.01 FINANCIAL INCLUSIVITY CHECKER\n",
        "\n",
        "This is the notebook that will house the dataset to be prepared and later analysed in accordance to the project goals.\n",
        "\n",
        "The group Brainy Badgers, has been tasked with assessing the level of financial inclusion in the region encompassing Kenya, Rwanda , Uganda and Tanzania. This is being done with the help of a dataset called the Financial Inclusion dataset.It is an excel format datatable that has thirteen columns and twenty three thousand five hundred and twenty five rows.The attributes are as follows:\n",
        "-country \n",
        "\n",
        "-year \n",
        "\n",
        "-unique id \n",
        "\n",
        "-location type \n",
        "\n",
        "-cellphone acces \n",
        "\n",
        "-household size \n",
        "\n",
        "-Age of respondent \n",
        "\n",
        "-gender of respondent \n",
        "\n",
        "-relationship with head \n",
        "\n",
        "-maritial status \n",
        "\n",
        "-education level \n",
        "\n",
        "-job type\n",
        "\n",
        "Prior to the analysis of the dataset, cleaning will be undertaken. Primarily this will involve the removal of (_) and the changing of the lettercasing to an uppercasing.\n",
        "\n",
        "The next step will be the creation of new columns from the breaking of existing columns. From the relationship with head column,we will create a new column called HEAD OF HOUSEHOLD,this will state yes if the respondent is the head of the household.\n",
        "\n",
        "The next column to be broken will be the maritial status column creating a new column called the LIVING CONDITION which will identify the state of the respondent whether they live with someone or alone.\n",
        "\n",
        "To then ensure the validity of the data we will then identify duplications in the dataset ,removing all duplicates from the data.\n",
        "\n",
        "After these processes the data will be clean to a satisfactory degree and will now be ready for analysis which will be done both in the pandas method and the sql method\n",
        "\n",
        "\n"
      ]
    },
    {
      "cell_type": "markdown",
      "metadata": {
        "id": "wGY1h_PhelGD"
      },
      "source": [
        "## 1.02 Analysis objectives"
      ]
    },
    {
      "cell_type": "markdown",
      "metadata": {
        "id": "vP6OUQOtEti0"
      },
      "source": [
        "\n",
        "\n",
        "This analysis is in the form of answering the objectives:\n",
        "\n",
        "1.To determine the number of people with access to bank accounts and how this varies in urban and rural areas, between the job type\n",
        "\n",
        "2.To determine the country with the most mobile phones and the highest number of bank accounts.\n",
        "\n",
        "3.To determine the people to be targeted with mobile banking intergration\n",
        "\n",
        "4.To determine the job type to be targeted with fintech marketing in the region for people with a phone but no bank account.\n",
        "\n",
        "5.To determine the influence of mobile phone access and location to job type\n",
        "\n",
        "6.To determine which age has the most access to mobile phones.\n",
        "\n",
        "7.Age with mobile phone but no bank account.\n",
        "\n",
        "8.Determine which age has the highest access to mobile phones and bank accounts.\n",
        "\n",
        "9.To determine the percentage of level of access to mobile phones for people in the region per country\n",
        "\n",
        "10.To determine the percentage of level of access to mobile phones for people in the region\n",
        "\n",
        "11.To determine the percentage of level of access to mobile phones for people in urban areas and rural areas."
      ]
    },
    {
      "cell_type": "markdown",
      "metadata": {
        "id": "4JsRLVCl7IEl"
      },
      "source": [
        "# Loading our Database"
      ]
    },
    {
      "cell_type": "code",
      "metadata": {
        "colab": {
          "base_uri": "https://localhost:8080/",
          "height": 35
        },
        "id": "gH9fVoWOEmae",
        "outputId": "295b1194-f94c-4187-dcfa-99e36ce0dc72"
      },
      "source": [
        "# We will first load the sql extension into our environment\n",
        "%load_ext sql\n",
        "\n",
        "# Then connect to our in memory sqlite database\n",
        "# NB: This database will cease to exist as soon as the database connection is closed. \n",
        "%sql sqlite://\n"
      ],
      "execution_count": null,
      "outputs": [
        {
          "output_type": "execute_result",
          "data": {
            "application/vnd.google.colaboratory.intrinsic+json": {
              "type": "string"
            },
            "text/plain": [
              "'Connected: @None'"
            ]
          },
          "metadata": {},
          "execution_count": 2
        }
      ]
    },
    {
      "cell_type": "markdown",
      "metadata": {
        "id": "C_jwUvSrGOQZ"
      },
      "source": [
        "# 1.0 Import the libraries"
      ]
    },
    {
      "cell_type": "code",
      "metadata": {
        "id": "n9Ub5bWLFi-N"
      },
      "source": [
        "# Importing the pandas library\n",
        "# We will use a function read_csv from pandas to read our datasets as shown\n",
        "#\n",
        "import pandas as pd "
      ],
      "execution_count": null,
      "outputs": []
    },
    {
      "cell_type": "markdown",
      "metadata": {
        "id": "qd9Tised9F5l"
      },
      "source": [
        "# Upload the table from the csv."
      ]
    },
    {
      "cell_type": "code",
      "metadata": {
        "colab": {
          "base_uri": "https://localhost:8080/",
          "height": 361
        },
        "id": "dVSIKtDvFq-4",
        "outputId": "6d65f472-b5bc-498c-9357-1b2684367dde"
      },
      "source": [
        "# Loading our table from the respective CSV files\n",
        "# We will export the dataset that we have cleaned using python\n",
        "#\n",
        "with open('Financial_Inclusivity.csv','r') as f:\n",
        "    Financial = pd.read_csv(f, index_col=0, encoding='utf-8')\n",
        "%sql DROP TABLE if EXISTS Financial;\n",
        "%sql PERSIST Financial;\n",
        "%sql SELECT * FROM Financial LIMIT 5;"
      ],
      "execution_count": null,
      "outputs": [
        {
          "output_type": "stream",
          "name": "stdout",
          "text": [
            " * sqlite://\n",
            "Done.\n",
            " * sqlite://\n",
            " * sqlite://\n",
            "Done.\n"
          ]
        },
        {
          "output_type": "execute_result",
          "data": {
            "text/html": [
              "<table>\n",
              "    <thead>\n",
              "        <tr>\n",
              "            <th>index</th>\n",
              "            <th>country</th>\n",
              "            <th>year</th>\n",
              "            <th>bank_account</th>\n",
              "            <th>location_type</th>\n",
              "            <th>cellphone_access</th>\n",
              "            <th>household_size</th>\n",
              "            <th>age_of_respondent</th>\n",
              "            <th>gender_of_respondent</th>\n",
              "            <th>relationship_with_head</th>\n",
              "            <th>marital_status</th>\n",
              "            <th>education_level</th>\n",
              "            <th>job_type</th>\n",
              "            <th>living_condition</th>\n",
              "            <th>head_of_household</th>\n",
              "        </tr>\n",
              "    </thead>\n",
              "    <tbody>\n",
              "        <tr>\n",
              "            <td>0</td>\n",
              "            <td>Kenya</td>\n",
              "            <td>2018</td>\n",
              "            <td>Yes</td>\n",
              "            <td>Rural</td>\n",
              "            <td>Yes</td>\n",
              "            <td>3</td>\n",
              "            <td>24</td>\n",
              "            <td>Female</td>\n",
              "            <td>Spouse</td>\n",
              "            <td>Married</td>\n",
              "            <td>Secondary education</td>\n",
              "            <td>Self employed</td>\n",
              "            <td>Living together</td>\n",
              "            <td>No</td>\n",
              "        </tr>\n",
              "        <tr>\n",
              "            <td>1</td>\n",
              "            <td>Kenya</td>\n",
              "            <td>2018</td>\n",
              "            <td>No</td>\n",
              "            <td>Rural</td>\n",
              "            <td>No</td>\n",
              "            <td>5</td>\n",
              "            <td>70</td>\n",
              "            <td>Female</td>\n",
              "            <td>Head of Household</td>\n",
              "            <td>Widowed</td>\n",
              "            <td>No formal education</td>\n",
              "            <td>Government Dependent</td>\n",
              "            <td>Widowed</td>\n",
              "            <td>Yes</td>\n",
              "        </tr>\n",
              "        <tr>\n",
              "            <td>2</td>\n",
              "            <td>Kenya</td>\n",
              "            <td>2018</td>\n",
              "            <td>Yes</td>\n",
              "            <td>Urban</td>\n",
              "            <td>Yes</td>\n",
              "            <td>5</td>\n",
              "            <td>26</td>\n",
              "            <td>Male</td>\n",
              "            <td>Other relative</td>\n",
              "            <td>Single</td>\n",
              "            <td>Vocational/Specialised training</td>\n",
              "            <td>Self employed</td>\n",
              "            <td>Never Married</td>\n",
              "            <td>No</td>\n",
              "        </tr>\n",
              "        <tr>\n",
              "            <td>3</td>\n",
              "            <td>Kenya</td>\n",
              "            <td>2018</td>\n",
              "            <td>No</td>\n",
              "            <td>Rural</td>\n",
              "            <td>Yes</td>\n",
              "            <td>5</td>\n",
              "            <td>34</td>\n",
              "            <td>Female</td>\n",
              "            <td>Head of Household</td>\n",
              "            <td>Married</td>\n",
              "            <td>Primary education</td>\n",
              "            <td>Formally employed Private</td>\n",
              "            <td>Living together</td>\n",
              "            <td>Yes</td>\n",
              "        </tr>\n",
              "        <tr>\n",
              "            <td>4</td>\n",
              "            <td>Kenya</td>\n",
              "            <td>2018</td>\n",
              "            <td>No</td>\n",
              "            <td>Urban</td>\n",
              "            <td>No</td>\n",
              "            <td>8</td>\n",
              "            <td>26</td>\n",
              "            <td>Male</td>\n",
              "            <td>Child</td>\n",
              "            <td>Single</td>\n",
              "            <td>Primary education</td>\n",
              "            <td>Informally employed</td>\n",
              "            <td>Never Married</td>\n",
              "            <td>No</td>\n",
              "        </tr>\n",
              "    </tbody>\n",
              "</table>"
            ],
            "text/plain": [
              "[(0, 'Kenya', 2018, 'Yes', 'Rural', 'Yes', 3, 24, 'Female', 'Spouse', 'Married', 'Secondary education', 'Self employed', 'Living together', 'No'),\n",
              " (1, 'Kenya', 2018, 'No', 'Rural', 'No', 5, 70, 'Female', 'Head of Household', 'Widowed', 'No formal education', 'Government Dependent', 'Widowed', 'Yes'),\n",
              " (2, 'Kenya', 2018, 'Yes', 'Urban', 'Yes', 5, 26, 'Male', 'Other relative', 'Single', 'Vocational/Specialised training', 'Self employed', 'Never Married', 'No'),\n",
              " (3, 'Kenya', 2018, 'No', 'Rural', 'Yes', 5, 34, 'Female', 'Head of Household', 'Married', 'Primary education', 'Formally employed Private', 'Living together', 'Yes'),\n",
              " (4, 'Kenya', 2018, 'No', 'Urban', 'No', 8, 26, 'Male', 'Child', 'Single', 'Primary education', 'Informally employed', 'Never Married', 'No')]"
            ]
          },
          "metadata": {},
          "execution_count": 5
        }
      ]
    },
    {
      "cell_type": "markdown",
      "metadata": {
        "id": "YdnAAetjEjjJ"
      },
      "source": [
        "#SQL Analysis"
      ]
    },
    {
      "cell_type": "markdown",
      "metadata": {
        "id": "axtk1G5Mf_gI"
      },
      "source": [
        "## 1.To determine the number of people with access to bank accounts and how this varies in urban and rural areas, between the job type"
      ]
    },
    {
      "cell_type": "code",
      "metadata": {
        "colab": {
          "base_uri": "https://localhost:8080/",
          "height": 119
        },
        "id": "A3hUC5HgIqms",
        "outputId": "435c5af1-fa28-4f6f-85e5-f6c12075ea9a"
      },
      "source": [
        "# To determine the number of people with access to bank accounts and how this varies in urban and rural areas\n",
        "%%sql\n",
        "select count(bank_account), location_type\n",
        "from Financial\n",
        "where bank_account = 'Yes'\n",
        "group by location_type"
      ],
      "execution_count": null,
      "outputs": [
        {
          "output_type": "stream",
          "name": "stdout",
          "text": [
            " * sqlite://\n",
            "Done.\n"
          ]
        },
        {
          "output_type": "execute_result",
          "data": {
            "text/html": [
              "<table>\n",
              "    <thead>\n",
              "        <tr>\n",
              "            <th>count(bank_account)</th>\n",
              "            <th>location_type</th>\n",
              "        </tr>\n",
              "    </thead>\n",
              "    <tbody>\n",
              "        <tr>\n",
              "            <td>1671</td>\n",
              "            <td>Rural</td>\n",
              "        </tr>\n",
              "        <tr>\n",
              "            <td>1641</td>\n",
              "            <td>Urban</td>\n",
              "        </tr>\n",
              "    </tbody>\n",
              "</table>"
            ],
            "text/plain": [
              "[(1671, 'Rural'), (1641, 'Urban')]"
            ]
          },
          "metadata": {},
          "execution_count": 6
        }
      ]
    },
    {
      "cell_type": "code",
      "metadata": {
        "colab": {
          "base_uri": "https://localhost:8080/",
          "height": 288
        },
        "id": "aOhnM3UEJSMm",
        "outputId": "d5f6ebd9-67be-4201-e628-edfdcdf8fd45"
      },
      "source": [
        "# To determine the number of people with access to bank accounts and how this varies with job type\n",
        "%%sql\n",
        "select count(bank_account), job_type\n",
        "from Financial\n",
        "where bank_account = 'Yes'\n",
        "group by job_type\n",
        "order by count(bank_account) desc"
      ],
      "execution_count": null,
      "outputs": [
        {
          "output_type": "stream",
          "name": "stdout",
          "text": [
            " * sqlite://\n",
            "Done.\n"
          ]
        },
        {
          "output_type": "execute_result",
          "data": {
            "text/html": [
              "<table>\n",
              "    <thead>\n",
              "        <tr>\n",
              "            <th>count(bank_account)</th>\n",
              "            <th>job_type</th>\n",
              "        </tr>\n",
              "    </thead>\n",
              "    <tbody>\n",
              "        <tr>\n",
              "            <td>848</td>\n",
              "            <td>Self employed</td>\n",
              "        </tr>\n",
              "        <tr>\n",
              "            <td>635</td>\n",
              "            <td>Farming and Fishing</td>\n",
              "        </tr>\n",
              "        <tr>\n",
              "            <td>571</td>\n",
              "            <td>Formally employed Private</td>\n",
              "        </tr>\n",
              "        <tr>\n",
              "            <td>445</td>\n",
              "            <td>Informally employed</td>\n",
              "        </tr>\n",
              "        <tr>\n",
              "            <td>300</td>\n",
              "            <td>Formally employed Government</td>\n",
              "        </tr>\n",
              "        <tr>\n",
              "            <td>240</td>\n",
              "            <td>Remittance Dependent</td>\n",
              "        </tr>\n",
              "        <tr>\n",
              "            <td>196</td>\n",
              "            <td>Other Income</td>\n",
              "        </tr>\n",
              "        <tr>\n",
              "            <td>50</td>\n",
              "            <td>Government Dependent</td>\n",
              "        </tr>\n",
              "        <tr>\n",
              "            <td>14</td>\n",
              "            <td>Dont Know/Refuse to answer</td>\n",
              "        </tr>\n",
              "        <tr>\n",
              "            <td>13</td>\n",
              "            <td>No Income</td>\n",
              "        </tr>\n",
              "    </tbody>\n",
              "</table>"
            ],
            "text/plain": [
              "[(848, 'Self employed'),\n",
              " (635, 'Farming and Fishing'),\n",
              " (571, 'Formally employed Private'),\n",
              " (445, 'Informally employed'),\n",
              " (300, 'Formally employed Government'),\n",
              " (240, 'Remittance Dependent'),\n",
              " (196, 'Other Income'),\n",
              " (50, 'Government Dependent'),\n",
              " (14, 'Dont Know/Refuse to answer'),\n",
              " (13, 'No Income')]"
            ]
          },
          "metadata": {},
          "execution_count": 7
        }
      ]
    },
    {
      "cell_type": "markdown",
      "metadata": {
        "id": "uCdgvK40gxee"
      },
      "source": [
        "## 2.To determine the country with the most mobile phones and the highest number of bank accounts."
      ]
    },
    {
      "cell_type": "code",
      "metadata": {
        "colab": {
          "base_uri": "https://localhost:8080/",
          "height": 97
        },
        "id": "pc_T0jPKSPZ6",
        "outputId": "a3c74bca-7645-4d66-d1ea-6fd2891d6f20"
      },
      "source": [
        "# 2.01 To determine the country with the most bank accounts\n",
        "%%sql\n",
        "select country, count(bank_account)\n",
        "from Financial\n",
        "where bank_account = 'Yes'\n",
        "group by country\n",
        "order by count(bank_account) desc \n",
        "limit(1)"
      ],
      "execution_count": null,
      "outputs": [
        {
          "output_type": "stream",
          "name": "stdout",
          "text": [
            " * sqlite://\n",
            "Done.\n"
          ]
        },
        {
          "output_type": "execute_result",
          "data": {
            "text/html": [
              "<table>\n",
              "    <thead>\n",
              "        <tr>\n",
              "            <th>country</th>\n",
              "            <th>count(bank_account)</th>\n",
              "        </tr>\n",
              "    </thead>\n",
              "    <tbody>\n",
              "        <tr>\n",
              "            <td>Kenya</td>\n",
              "            <td>1521</td>\n",
              "        </tr>\n",
              "    </tbody>\n",
              "</table>"
            ],
            "text/plain": [
              "[('Kenya', 1521)]"
            ]
          },
          "metadata": {},
          "execution_count": 8
        }
      ]
    },
    {
      "cell_type": "code",
      "metadata": {
        "colab": {
          "base_uri": "https://localhost:8080/",
          "height": 97
        },
        "id": "NZPy_uCVUZjo",
        "outputId": "11123338-8135-4917-e538-7ac3e535359c"
      },
      "source": [
        "# 2.02 To determine the country with the most mobile phones.\n",
        "%%sql\n",
        "select country, count(cellphone_access)\n",
        "from Financial\n",
        "where cellphone_access = 'Yes'\n",
        "group by country\n",
        "order by count(cellphone_access) desc\n",
        "limit(1)"
      ],
      "execution_count": null,
      "outputs": [
        {
          "output_type": "stream",
          "name": "stdout",
          "text": [
            " * sqlite://\n",
            "Done.\n"
          ]
        },
        {
          "output_type": "execute_result",
          "data": {
            "text/html": [
              "<table>\n",
              "    <thead>\n",
              "        <tr>\n",
              "            <th>country</th>\n",
              "            <th>count(cellphone_access)</th>\n",
              "        </tr>\n",
              "    </thead>\n",
              "    <tbody>\n",
              "        <tr>\n",
              "            <td>Rwanda</td>\n",
              "            <td>7249</td>\n",
              "        </tr>\n",
              "    </tbody>\n",
              "</table>"
            ],
            "text/plain": [
              "[('Rwanda', 7249)]"
            ]
          },
          "metadata": {},
          "execution_count": 10
        }
      ]
    },
    {
      "cell_type": "markdown",
      "metadata": {
        "id": "h2WmjuFNiUBN"
      },
      "source": [
        "## 3.To determine the people to be targeted with mobile banking intergration"
      ]
    },
    {
      "cell_type": "code",
      "metadata": {
        "colab": {
          "base_uri": "https://localhost:8080/",
          "height": 288
        },
        "id": "CLJarKlpJ4Z4",
        "outputId": "724095e7-acf3-4927-9b3e-e9306be0ecff"
      },
      "source": [
        "%%sql\n",
        "select count(bank_account), count(cellphone_access), job_type\n",
        "from Financial\n",
        "where bank_account = 'Yes' and cellphone_access = 'Yes'\n",
        "group by job_type\n",
        "order by count(bank_account) desc"
      ],
      "execution_count": null,
      "outputs": [
        {
          "output_type": "stream",
          "name": "stdout",
          "text": [
            " * sqlite://\n",
            "Done.\n"
          ]
        },
        {
          "output_type": "execute_result",
          "data": {
            "text/html": [
              "<table>\n",
              "    <thead>\n",
              "        <tr>\n",
              "            <th>count(bank_account)</th>\n",
              "            <th>count(cellphone_access)</th>\n",
              "            <th>job_type</th>\n",
              "        </tr>\n",
              "    </thead>\n",
              "    <tbody>\n",
              "        <tr>\n",
              "            <td>831</td>\n",
              "            <td>831</td>\n",
              "            <td>Self employed</td>\n",
              "        </tr>\n",
              "        <tr>\n",
              "            <td>605</td>\n",
              "            <td>605</td>\n",
              "            <td>Farming and Fishing</td>\n",
              "        </tr>\n",
              "        <tr>\n",
              "            <td>568</td>\n",
              "            <td>568</td>\n",
              "            <td>Formally employed Private</td>\n",
              "        </tr>\n",
              "        <tr>\n",
              "            <td>435</td>\n",
              "            <td>435</td>\n",
              "            <td>Informally employed</td>\n",
              "        </tr>\n",
              "        <tr>\n",
              "            <td>296</td>\n",
              "            <td>296</td>\n",
              "            <td>Formally employed Government</td>\n",
              "        </tr>\n",
              "        <tr>\n",
              "            <td>227</td>\n",
              "            <td>227</td>\n",
              "            <td>Remittance Dependent</td>\n",
              "        </tr>\n",
              "        <tr>\n",
              "            <td>186</td>\n",
              "            <td>186</td>\n",
              "            <td>Other Income</td>\n",
              "        </tr>\n",
              "        <tr>\n",
              "            <td>35</td>\n",
              "            <td>35</td>\n",
              "            <td>Government Dependent</td>\n",
              "        </tr>\n",
              "        <tr>\n",
              "            <td>14</td>\n",
              "            <td>14</td>\n",
              "            <td>Dont Know/Refuse to answer</td>\n",
              "        </tr>\n",
              "        <tr>\n",
              "            <td>11</td>\n",
              "            <td>11</td>\n",
              "            <td>No Income</td>\n",
              "        </tr>\n",
              "    </tbody>\n",
              "</table>"
            ],
            "text/plain": [
              "[(831, 831, 'Self employed'),\n",
              " (605, 605, 'Farming and Fishing'),\n",
              " (568, 568, 'Formally employed Private'),\n",
              " (435, 435, 'Informally employed'),\n",
              " (296, 296, 'Formally employed Government'),\n",
              " (227, 227, 'Remittance Dependent'),\n",
              " (186, 186, 'Other Income'),\n",
              " (35, 35, 'Government Dependent'),\n",
              " (14, 14, 'Dont Know/Refuse to answer'),\n",
              " (11, 11, 'No Income')]"
            ]
          },
          "metadata": {},
          "execution_count": 13
        }
      ]
    },
    {
      "cell_type": "markdown",
      "metadata": {
        "id": "XKXJPiT4h8_4"
      },
      "source": [
        "## 4.To determine the job type to be targeted with fintech marketing in the region for people with a phone but no bank account"
      ]
    },
    {
      "cell_type": "code",
      "metadata": {
        "colab": {
          "base_uri": "https://localhost:8080/",
          "height": 277
        },
        "id": "IWxBha7YK_dD",
        "outputId": "fa2537b4-d5e5-4372-c305-a8a222552e6f"
      },
      "source": [
        "%%sql\n",
        "select count(bank_account), count(cellphone_access), job_type\n",
        "from Financial\n",
        "where bank_account = 'No' and cellphone_access = 'Yes'\n",
        "group by job_type\n",
        "order by count(bank_account) desc"
      ],
      "execution_count": null,
      "outputs": [
        {
          "output_type": "stream",
          "name": "stdout",
          "text": [
            " * sqlite://\n",
            "Done.\n"
          ]
        },
        {
          "output_type": "execute_result",
          "data": {
            "text/html": [
              "<table>\n",
              "    <thead>\n",
              "        <tr>\n",
              "            <th>count(bank_account)</th>\n",
              "            <th>count(cellphone_access)</th>\n",
              "            <th>job_type</th>\n",
              "        </tr>\n",
              "    </thead>\n",
              "    <tbody>\n",
              "        <tr>\n",
              "            <td>3918</td>\n",
              "            <td>3918</td>\n",
              "            <td>Farming and Fishing</td>\n",
              "        </tr>\n",
              "        <tr>\n",
              "            <td>3688</td>\n",
              "            <td>3688</td>\n",
              "            <td>Self employed</td>\n",
              "        </tr>\n",
              "        <tr>\n",
              "            <td>3681</td>\n",
              "            <td>3681</td>\n",
              "            <td>Informally employed</td>\n",
              "        </tr>\n",
              "        <tr>\n",
              "            <td>1383</td>\n",
              "            <td>1383</td>\n",
              "            <td>Remittance Dependent</td>\n",
              "        </tr>\n",
              "        <tr>\n",
              "            <td>601</td>\n",
              "            <td>601</td>\n",
              "            <td>Other Income</td>\n",
              "        </tr>\n",
              "        <tr>\n",
              "            <td>440</td>\n",
              "            <td>440</td>\n",
              "            <td>Formally employed Private</td>\n",
              "        </tr>\n",
              "        <tr>\n",
              "            <td>282</td>\n",
              "            <td>282</td>\n",
              "            <td>No Income</td>\n",
              "        </tr>\n",
              "        <tr>\n",
              "            <td>87</td>\n",
              "            <td>87</td>\n",
              "            <td>Government Dependent</td>\n",
              "        </tr>\n",
              "        <tr>\n",
              "            <td>85</td>\n",
              "            <td>85</td>\n",
              "            <td>Formally employed Government</td>\n",
              "        </tr>\n",
              "        <tr>\n",
              "            <td>81</td>\n",
              "            <td>81</td>\n",
              "            <td>Dont Know/Refuse to answer</td>\n",
              "        </tr>\n",
              "    </tbody>\n",
              "</table>"
            ],
            "text/plain": [
              "[(3918, 3918, 'Farming and Fishing'),\n",
              " (3688, 3688, 'Self employed'),\n",
              " (3681, 3681, 'Informally employed'),\n",
              " (1383, 1383, 'Remittance Dependent'),\n",
              " (601, 601, 'Other Income'),\n",
              " (440, 440, 'Formally employed Private'),\n",
              " (282, 282, 'No Income'),\n",
              " (87, 87, 'Government Dependent'),\n",
              " (85, 85, 'Formally employed Government'),\n",
              " (81, 81, 'Dont Know/Refuse to answer')]"
            ]
          },
          "metadata": {},
          "execution_count": 92
        }
      ]
    },
    {
      "cell_type": "markdown",
      "metadata": {
        "id": "AhBG9dEdixsX"
      },
      "source": [
        "## 5.To determine the influence of mobile phone access and location to job type"
      ]
    },
    {
      "cell_type": "code",
      "metadata": {
        "colab": {
          "base_uri": "https://localhost:8080/",
          "height": 288
        },
        "id": "VTwn92ToLqUw",
        "outputId": "21d9af35-0917-406f-f1c2-8ff657d28af4"
      },
      "source": [
        "%%sql\n",
        "select job_type, location_type,cellphone_access, count(cellphone_access)\n",
        "from Financial\n",
        "group by job_type\n"
      ],
      "execution_count": null,
      "outputs": [
        {
          "output_type": "stream",
          "name": "stdout",
          "text": [
            " * sqlite://\n",
            "Done.\n"
          ]
        },
        {
          "output_type": "execute_result",
          "data": {
            "text/html": [
              "<table>\n",
              "    <thead>\n",
              "        <tr>\n",
              "            <th>job_type</th>\n",
              "            <th>location_type</th>\n",
              "            <th>cellphone_access</th>\n",
              "            <th>count(cellphone_access)</th>\n",
              "        </tr>\n",
              "    </thead>\n",
              "    <tbody>\n",
              "        <tr>\n",
              "            <td>Dont Know/Refuse to answer</td>\n",
              "            <td>Rural</td>\n",
              "            <td>No</td>\n",
              "            <td>126</td>\n",
              "        </tr>\n",
              "        <tr>\n",
              "            <td>Farming and Fishing</td>\n",
              "            <td>Rural</td>\n",
              "            <td>Yes</td>\n",
              "            <td>5441</td>\n",
              "        </tr>\n",
              "        <tr>\n",
              "            <td>Formally employed Government</td>\n",
              "            <td>Rural</td>\n",
              "            <td>Yes</td>\n",
              "            <td>387</td>\n",
              "        </tr>\n",
              "        <tr>\n",
              "            <td>Formally employed Private</td>\n",
              "            <td>Urban</td>\n",
              "            <td>Yes</td>\n",
              "            <td>1055</td>\n",
              "        </tr>\n",
              "        <tr>\n",
              "            <td>Government Dependent</td>\n",
              "            <td>Urban</td>\n",
              "            <td>No</td>\n",
              "            <td>247</td>\n",
              "        </tr>\n",
              "        <tr>\n",
              "            <td>Informally employed</td>\n",
              "            <td>Urban</td>\n",
              "            <td>Yes</td>\n",
              "            <td>5597</td>\n",
              "        </tr>\n",
              "        <tr>\n",
              "            <td>No Income</td>\n",
              "            <td>Rural</td>\n",
              "            <td>Yes</td>\n",
              "            <td>627</td>\n",
              "        </tr>\n",
              "        <tr>\n",
              "            <td>Other Income</td>\n",
              "            <td>Rural</td>\n",
              "            <td>Yes</td>\n",
              "            <td>1080</td>\n",
              "        </tr>\n",
              "        <tr>\n",
              "            <td>Remittance Dependent</td>\n",
              "            <td>Urban</td>\n",
              "            <td>No</td>\n",
              "            <td>2527</td>\n",
              "        </tr>\n",
              "        <tr>\n",
              "            <td>Self employed</td>\n",
              "            <td>Urban</td>\n",
              "            <td>Yes</td>\n",
              "            <td>6437</td>\n",
              "        </tr>\n",
              "    </tbody>\n",
              "</table>"
            ],
            "text/plain": [
              "[('Dont Know/Refuse to answer', 'Rural', 'No', 126),\n",
              " ('Farming and Fishing', 'Rural', 'Yes', 5441),\n",
              " ('Formally employed Government', 'Rural', 'Yes', 387),\n",
              " ('Formally employed Private', 'Urban', 'Yes', 1055),\n",
              " ('Government Dependent', 'Urban', 'No', 247),\n",
              " ('Informally employed', 'Urban', 'Yes', 5597),\n",
              " ('No Income', 'Rural', 'Yes', 627),\n",
              " ('Other Income', 'Rural', 'Yes', 1080),\n",
              " ('Remittance Dependent', 'Urban', 'No', 2527),\n",
              " ('Self employed', 'Urban', 'Yes', 6437)]"
            ]
          },
          "metadata": {},
          "execution_count": 16
        }
      ]
    },
    {
      "cell_type": "markdown",
      "metadata": {
        "id": "Qzp6klkEi_Fm"
      },
      "source": [
        "## 6.To determine which age has the most access to mobile phones"
      ]
    },
    {
      "cell_type": "code",
      "metadata": {
        "colab": {
          "base_uri": "https://localhost:8080/",
          "height": 93
        },
        "id": "APdBr9gGNpma",
        "outputId": "c83d2e8d-114a-47b6-86e8-dcc0f58e8eb7"
      },
      "source": [
        "%%sql\n",
        "select age_of_respondent, count(cellphone_access)\n",
        "from Financial\n",
        "where cellphone_access = 'Yes'\n",
        "group by age_of_respondent\n",
        "order by count(cellphone_access) desc\n",
        "limit 1\n"
      ],
      "execution_count": null,
      "outputs": [
        {
          "output_type": "stream",
          "name": "stdout",
          "text": [
            " * sqlite://\n",
            "Done.\n"
          ]
        },
        {
          "output_type": "execute_result",
          "data": {
            "text/html": [
              "<table>\n",
              "    <thead>\n",
              "        <tr>\n",
              "            <th>age_of_respondent</th>\n",
              "            <th>count(cellphone_access)</th>\n",
              "        </tr>\n",
              "    </thead>\n",
              "    <tbody>\n",
              "        <tr>\n",
              "            <td>30</td>\n",
              "            <td>824</td>\n",
              "        </tr>\n",
              "    </tbody>\n",
              "</table>"
            ],
            "text/plain": [
              "[(30, 824)]"
            ]
          },
          "metadata": {},
          "execution_count": 37
        }
      ]
    },
    {
      "cell_type": "markdown",
      "metadata": {
        "id": "Me7Ye46ojsoB"
      },
      "source": [
        "## 7.Age with mobile phone but no bank account"
      ]
    },
    {
      "cell_type": "code",
      "metadata": {
        "colab": {
          "base_uri": "https://localhost:8080/",
          "height": 93
        },
        "id": "8zPNDF4iPBMw",
        "outputId": "1ce3f65e-b0bd-47d8-87da-75d421b9ff80"
      },
      "source": [
        "%%sql\n",
        "select age_of_respondent, count(cellphone_access)\n",
        "from Financial\n",
        "where cellphone_access = 'Yes' and bank_account = 'No'\n",
        "group by age_of_respondent\n",
        "order by count(cellphone_access) desc\n",
        "limit 1\n"
      ],
      "execution_count": null,
      "outputs": [
        {
          "output_type": "stream",
          "name": "stdout",
          "text": [
            " * sqlite://\n",
            "Done.\n"
          ]
        },
        {
          "output_type": "execute_result",
          "data": {
            "text/html": [
              "<table>\n",
              "    <thead>\n",
              "        <tr>\n",
              "            <th>age_of_respondent</th>\n",
              "            <th>count(cellphone_access)</th>\n",
              "        </tr>\n",
              "    </thead>\n",
              "    <tbody>\n",
              "        <tr>\n",
              "            <td>30</td>\n",
              "            <td>648</td>\n",
              "        </tr>\n",
              "    </tbody>\n",
              "</table>"
            ],
            "text/plain": [
              "[(30, 648)]"
            ]
          },
          "metadata": {},
          "execution_count": 38
        }
      ]
    },
    {
      "cell_type": "markdown",
      "metadata": {
        "id": "gqRYuVQJkyh2"
      },
      "source": [
        "## 8.Determine which age has the highest access to mobile phones and bank accounts."
      ]
    },
    {
      "cell_type": "code",
      "metadata": {
        "colab": {
          "base_uri": "https://localhost:8080/",
          "height": 93
        },
        "id": "FuJLtgIVR80V",
        "outputId": "b645ca38-8a9a-4bb9-edc3-28cdbc5ec216"
      },
      "source": [
        "%%sql\n",
        "select age_of_respondent, count(cellphone_access)\n",
        "from Financial\n",
        "where cellphone_access = 'Yes' and bank_account = 'Yes'\n",
        "group by age_of_respondent\n",
        "order by count(cellphone_access) desc\n",
        "limit 1\n"
      ],
      "execution_count": null,
      "outputs": [
        {
          "output_type": "stream",
          "name": "stdout",
          "text": [
            " * sqlite://\n",
            "Done.\n"
          ]
        },
        {
          "output_type": "execute_result",
          "data": {
            "text/html": [
              "<table>\n",
              "    <thead>\n",
              "        <tr>\n",
              "            <th>age_of_respondent</th>\n",
              "            <th>count(cellphone_access)</th>\n",
              "        </tr>\n",
              "    </thead>\n",
              "    <tbody>\n",
              "        <tr>\n",
              "            <td>30</td>\n",
              "            <td>176</td>\n",
              "        </tr>\n",
              "    </tbody>\n",
              "</table>"
            ],
            "text/plain": [
              "[(30, 176)]"
            ]
          },
          "metadata": {},
          "execution_count": 39
        }
      ]
    },
    {
      "cell_type": "markdown",
      "metadata": {
        "id": "l9ZJW6n_lFEr"
      },
      "source": [
        "## 9.To determine the percentage of level of access to mobile phones for people in the region per country "
      ]
    },
    {
      "cell_type": "code",
      "metadata": {
        "colab": {
          "base_uri": "https://localhost:8080/",
          "height": 154
        },
        "id": "4q1TeOsrWhHg",
        "outputId": "c899e456-6bae-4827-d7c9-bde76da99cb4"
      },
      "source": [
        "%%sql\n",
        "select country,count(cellphone_access), (100*count(cellphone_access)/(select count(cellphone_access) from Financial where cellphone_access = 'Yes')) as percentage_country\n",
        "from Financial\n",
        "where cellphone_access = 'Yes' \n",
        "group by country\n",
        "order by count(cellphone_access) desc"
      ],
      "execution_count": null,
      "outputs": [
        {
          "output_type": "stream",
          "name": "stdout",
          "text": [
            " * sqlite://\n",
            "Done.\n"
          ]
        },
        {
          "output_type": "execute_result",
          "data": {
            "text/html": [
              "<table>\n",
              "    <thead>\n",
              "        <tr>\n",
              "            <th>country</th>\n",
              "            <th>count(cellphone_access)</th>\n",
              "            <th>percentage_country</th>\n",
              "        </tr>\n",
              "    </thead>\n",
              "    <tbody>\n",
              "        <tr>\n",
              "            <td>Rwanda</td>\n",
              "            <td>7249</td>\n",
              "            <td>41</td>\n",
              "        </tr>\n",
              "        <tr>\n",
              "            <td>Kenya</td>\n",
              "            <td>4785</td>\n",
              "            <td>27</td>\n",
              "        </tr>\n",
              "        <tr>\n",
              "            <td>Tanzania</td>\n",
              "            <td>3956</td>\n",
              "            <td>22</td>\n",
              "        </tr>\n",
              "        <tr>\n",
              "            <td>Uganda</td>\n",
              "            <td>1464</td>\n",
              "            <td>8</td>\n",
              "        </tr>\n",
              "    </tbody>\n",
              "</table>"
            ],
            "text/plain": [
              "[('Rwanda', 7249, 41),\n",
              " ('Kenya', 4785, 27),\n",
              " ('Tanzania', 3956, 22),\n",
              " ('Uganda', 1464, 8)]"
            ]
          },
          "metadata": {},
          "execution_count": 107
        }
      ]
    },
    {
      "cell_type": "markdown",
      "metadata": {
        "id": "m_AeUg2BlUw8"
      },
      "source": [
        "## 10.To determine the percentage of level of access to mobile phones for people in the region."
      ]
    },
    {
      "cell_type": "code",
      "metadata": {
        "colab": {
          "base_uri": "https://localhost:8080/",
          "height": 93
        },
        "id": "BSezLWmiyymY",
        "outputId": "4ae64238-ba6e-45ec-8450-8057cf85038a"
      },
      "source": [
        "%%sql\n",
        "select (select count(cellphone_access) from Financial where cellphone_access = 'Yes')\n",
        " as Regional_cell_count, (select count(cellphone_access) from Financial) as Region_total,\n",
        "(100*(select count(cellphone_access) \n",
        "from Financial where cellphone_access = 'Yes')/ (select count(cellphone_access) from Financial))\n",
        " as percentage_region"
      ],
      "execution_count": null,
      "outputs": [
        {
          "output_type": "stream",
          "name": "stdout",
          "text": [
            " * sqlite://\n",
            "Done.\n"
          ]
        },
        {
          "output_type": "execute_result",
          "data": {
            "text/html": [
              "<table>\n",
              "    <thead>\n",
              "        <tr>\n",
              "            <th>Regional_cell_count</th>\n",
              "            <th>Region_total</th>\n",
              "            <th>percentage_region</th>\n",
              "        </tr>\n",
              "    </thead>\n",
              "    <tbody>\n",
              "        <tr>\n",
              "            <td>17454</td>\n",
              "            <td>23524</td>\n",
              "            <td>74</td>\n",
              "        </tr>\n",
              "    </tbody>\n",
              "</table>"
            ],
            "text/plain": [
              "[(17454, 23524, 74)]"
            ]
          },
          "metadata": {},
          "execution_count": 83
        }
      ]
    },
    {
      "cell_type": "markdown",
      "metadata": {
        "id": "CFaQc9oolp5_"
      },
      "source": [
        "## 11.To determine the percentage of level of access to mobile phones for people in urban areas and rural areas"
      ]
    },
    {
      "cell_type": "code",
      "metadata": {
        "colab": {
          "base_uri": "https://localhost:8080/",
          "height": 114
        },
        "id": "ZPi9xPHRcVQF",
        "outputId": "26eba54e-e060-4593-c696-3a872a6e324a"
      },
      "source": [
        "%%sql\n",
        "select location_type, count(cellphone_access), (select count(cellphone_access)\n",
        " from Financial where cellphone_access = 'Yes') as cell_total,\n",
        "(100 * count(cellphone_access)/ (select count(cellphone_access) \n",
        "from Financial where cellphone_access = 'Yes')) as percentage_of_cell\n",
        "from Financial\n",
        "where cellphone_access = 'Yes'\n",
        "group by location_type"
      ],
      "execution_count": null,
      "outputs": [
        {
          "output_type": "stream",
          "name": "stdout",
          "text": [
            " * sqlite://\n",
            "Done.\n"
          ]
        },
        {
          "output_type": "execute_result",
          "data": {
            "text/html": [
              "<table>\n",
              "    <thead>\n",
              "        <tr>\n",
              "            <th>location_type</th>\n",
              "            <th>count(cellphone_access)</th>\n",
              "            <th>cell_total</th>\n",
              "            <th>percentage_of_cell</th>\n",
              "        </tr>\n",
              "    </thead>\n",
              "    <tbody>\n",
              "        <tr>\n",
              "            <td>Rural</td>\n",
              "            <td>11070</td>\n",
              "            <td>17454</td>\n",
              "            <td>63</td>\n",
              "        </tr>\n",
              "        <tr>\n",
              "            <td>Urban</td>\n",
              "            <td>6384</td>\n",
              "            <td>17454</td>\n",
              "            <td>36</td>\n",
              "        </tr>\n",
              "    </tbody>\n",
              "</table>"
            ],
            "text/plain": [
              "[('Rural', 11070, 17454, 63), ('Urban', 6384, 17454, 36)]"
            ]
          },
          "metadata": {},
          "execution_count": 106
        }
      ]
    },
    {
      "cell_type": "code",
      "metadata": {
        "id": "uGSR-A3YcVNM"
      },
      "source": [
        ""
      ],
      "execution_count": null,
      "outputs": []
    }
  ]
}